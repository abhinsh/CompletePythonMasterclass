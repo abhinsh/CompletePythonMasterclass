{
 "cells": [
  {
   "cell_type": "markdown",
   "id": "c48aea7c",
   "metadata": {},
   "source": [
    "<img src = \"https://abhishekpoudel.com/wp-content/uploads/2024/04/Python-Complete-Masterclass-abhishekpoudel.png\" width=\"250\" length=\"400\" align=\"center\" />"
   ]
  },
  {
   "cell_type": "markdown",
   "id": "3900e4b2",
   "metadata": {},
   "source": [
    "<h1> Complete Python Masterclass Day 1 </h1>\n",
    "<h2> Table of Contents </h2>\n",
    "\n",
    "A. Variables\n",
    "    \n",
    "         1. Declare a Variable\n",
    "         2. Accessing a Variable\n",
    "         3. Checking the Variable Type\n",
    "\n",
    "B. Print Statement\n",
    "    \n",
    "         1. Hello World\n",
    "         2. Comments in Python\n",
    "         3. Printing a Variable\n",
    "             i. Printing variable along with custom message\n",
    "             ii. Using f string for printing\n",
    "\n",
    "C. Common Errors\n",
    "    \n",
    "         1. Syntactical(Syntax) Error\n",
    "         2. Indentation Error\n",
    "         3. Name Error\n",
    "\n",
    "D. Typecasting\n",
    "    \n",
    "         1. Implicit Typecasting\n",
    "         2. Explicit Typecasting\n",
    "\n",
    "E. Indexing\n",
    "    \n",
    "         1. Forward (Positive) Indexing\n",
    "         1. Negative Indexing\n",
    "         \n",
    "F. Slicing\n",
    "\n",
    "G. Escape Characters\n",
    "\n",
    "H. String Operations\n",
    "         \n",
    "         "
   ]
  },
  {
   "cell_type": "markdown",
   "id": "5cb37c9b",
   "metadata": {},
   "source": [
    "# A. Variables"
   ]
  },
  {
   "cell_type": "markdown",
   "id": "6f124e04",
   "metadata": {},
   "source": [
    "### 1. Declare a Variable\n",
    "Defining a variable can be done anywhere in the code by simply assigning the value using the '=' operator. The main thing to remember is to create a variable before calling it. Also, these are the rules to follow whie declaring a variable:\n",
    "\n",
    "i. Must begin with a letter (a-z, A-Z) or an underscore (_)\n",
    "\n",
    "ii. Can’t start with a digit (0–9)\n",
    "\n",
    "iii. Can contain letters, digits, and underscores\n",
    "\n",
    "iv. Cannot contain reserved words(keywords) "
   ]
  },
  {
   "cell_type": "code",
   "execution_count": 12,
   "id": "b769b429",
   "metadata": {},
   "outputs": [],
   "source": [
    "# String\n",
    "var1 = \"I am a string.\"\n",
    "# Integer\n",
    "var2 = 45\n",
    "#Floating point\n",
    "var3 = 165.86\n",
    "# Boolean\n",
    "var4 = True"
   ]
  },
  {
   "cell_type": "markdown",
   "id": "eb0c1889",
   "metadata": {},
   "source": [
    "### 2. Accessing a variable\n",
    "Simply writing the variable name in python calls it. "
   ]
  },
  {
   "cell_type": "code",
   "execution_count": 13,
   "id": "31e1a5df",
   "metadata": {},
   "outputs": [
    {
     "data": {
      "text/plain": [
       "'I am a string.'"
      ]
     },
     "execution_count": 13,
     "metadata": {},
     "output_type": "execute_result"
    }
   ],
   "source": [
    "var1"
   ]
  },
  {
   "cell_type": "code",
   "execution_count": 14,
   "id": "b18eb26c",
   "metadata": {},
   "outputs": [
    {
     "data": {
      "text/plain": [
       "45"
      ]
     },
     "execution_count": 14,
     "metadata": {},
     "output_type": "execute_result"
    }
   ],
   "source": [
    "var2"
   ]
  },
  {
   "cell_type": "code",
   "execution_count": 15,
   "id": "8210e3a2",
   "metadata": {},
   "outputs": [
    {
     "data": {
      "text/plain": [
       "165.86"
      ]
     },
     "execution_count": 15,
     "metadata": {},
     "output_type": "execute_result"
    }
   ],
   "source": [
    "var3"
   ]
  },
  {
   "cell_type": "code",
   "execution_count": 16,
   "id": "b2cfbf08",
   "metadata": {},
   "outputs": [
    {
     "data": {
      "text/plain": [
       "True"
      ]
     },
     "execution_count": 16,
     "metadata": {},
     "output_type": "execute_result"
    }
   ],
   "source": [
    "var4"
   ]
  },
  {
   "cell_type": "markdown",
   "id": "1c96b79a",
   "metadata": {},
   "source": [
    "### 3. Checking the Variable Type"
   ]
  },
  {
   "cell_type": "code",
   "execution_count": 17,
   "id": "3c08ef5d",
   "metadata": {},
   "outputs": [
    {
     "data": {
      "text/plain": [
       "str"
      ]
     },
     "execution_count": 17,
     "metadata": {},
     "output_type": "execute_result"
    }
   ],
   "source": [
    "type(var1)"
   ]
  },
  {
   "cell_type": "code",
   "execution_count": 18,
   "id": "e8f5ddeb",
   "metadata": {},
   "outputs": [
    {
     "data": {
      "text/plain": [
       "int"
      ]
     },
     "execution_count": 18,
     "metadata": {},
     "output_type": "execute_result"
    }
   ],
   "source": [
    "type(var2)"
   ]
  },
  {
   "cell_type": "code",
   "execution_count": 19,
   "id": "169e5576",
   "metadata": {},
   "outputs": [
    {
     "data": {
      "text/plain": [
       "float"
      ]
     },
     "execution_count": 19,
     "metadata": {},
     "output_type": "execute_result"
    }
   ],
   "source": [
    "type(var3)"
   ]
  },
  {
   "cell_type": "code",
   "execution_count": 20,
   "id": "dd71a4ec",
   "metadata": {},
   "outputs": [
    {
     "data": {
      "text/plain": [
       "bool"
      ]
     },
     "execution_count": 20,
     "metadata": {},
     "output_type": "execute_result"
    }
   ],
   "source": [
    "type(var4)"
   ]
  },
  {
   "cell_type": "markdown",
   "id": "33b60b36",
   "metadata": {},
   "source": [
    "# B. Print Statement"
   ]
  },
  {
   "cell_type": "markdown",
   "id": "4064e464",
   "metadata": {},
   "source": [
    "### 1. Hello World"
   ]
  },
  {
   "cell_type": "code",
   "execution_count": 1,
   "id": "f1a8a02b",
   "metadata": {},
   "outputs": [
    {
     "name": "stdout",
     "output_type": "stream",
     "text": [
      "Hello World\n"
     ]
    }
   ],
   "source": [
    "print(\"Hello World\")"
   ]
  },
  {
   "cell_type": "markdown",
   "id": "b1e285a3",
   "metadata": {},
   "source": [
    "### 2. Comments in Python"
   ]
  },
  {
   "cell_type": "code",
   "execution_count": 2,
   "id": "f9081f03",
   "metadata": {},
   "outputs": [],
   "source": [
    "# print(\"This code wont run\")"
   ]
  },
  {
   "cell_type": "markdown",
   "id": "48c5cd5e",
   "metadata": {},
   "source": [
    "### 3. Printing a variable\n",
    "In section A.2 the variable got printed only here in browser based runtime like Jupyter-Notebook, Google Colab, etc., but it will not be printed in an IDE or terminal. To print the variable, we need to explicitly call print statement.  "
   ]
  },
  {
   "cell_type": "code",
   "execution_count": 22,
   "id": "8973ac90",
   "metadata": {},
   "outputs": [
    {
     "name": "stdout",
     "output_type": "stream",
     "text": [
      "I am a string.\n"
     ]
    }
   ],
   "source": [
    "print(var1)"
   ]
  },
  {
   "cell_type": "markdown",
   "id": "23445020",
   "metadata": {},
   "source": [
    "#### i. Print variable along with custom message"
   ]
  },
  {
   "cell_type": "code",
   "execution_count": 28,
   "id": "edf594eb",
   "metadata": {},
   "outputs": [
    {
     "name": "stdout",
     "output_type": "stream",
     "text": [
      "What kind of variable are you?  I am a string.\n"
     ]
    }
   ],
   "source": [
    "print('What kind of variable are you? ',var1)"
   ]
  },
  {
   "cell_type": "markdown",
   "id": "9462eff3",
   "metadata": {},
   "source": [
    "#### ii. Using f string for printing"
   ]
  },
  {
   "cell_type": "code",
   "execution_count": 26,
   "id": "1ddaaec7",
   "metadata": {},
   "outputs": [
    {
     "name": "stdout",
     "output_type": "stream",
     "text": [
      "The first variable var1 is \"I am a string.\", and the second variable var2 is \"45\"\n"
     ]
    }
   ],
   "source": [
    "print(f'The first variable var1 is \"{var1}\", and the second variable var2 is \"{var2}\"')"
   ]
  },
  {
   "cell_type": "markdown",
   "id": "280ac660",
   "metadata": {},
   "source": [
    "##### In the above code, the curly braces act as placeholders for the variables"
   ]
  },
  {
   "cell_type": "markdown",
   "id": "36a86085",
   "metadata": {},
   "source": [
    "# C. Common Errors "
   ]
  },
  {
   "cell_type": "markdown",
   "id": "cb254699",
   "metadata": {},
   "source": [
    "### 1. Syntactical(Syntax) Error\n",
    "Are the errors that exists because of typo or mistakenly entered syntax. These error are caught by python interpreter on the run-time. "
   ]
  },
  {
   "cell_type": "code",
   "execution_count": 4,
   "id": "cc5a6efe",
   "metadata": {},
   "outputs": [
    {
     "ename": "SyntaxError",
     "evalue": "invalid syntax. Maybe you meant '==' or ':=' instead of '='? (683193485.py, line 1)",
     "output_type": "error",
     "traceback": [
      "\u001b[1;36m  Cell \u001b[1;32mIn[4], line 1\u001b[1;36m\u001b[0m\n\u001b[1;33m    if x = 5:\u001b[0m\n\u001b[1;37m       ^\u001b[0m\n\u001b[1;31mSyntaxError\u001b[0m\u001b[1;31m:\u001b[0m invalid syntax. Maybe you meant '==' or ':=' instead of '='?\n"
     ]
    }
   ],
   "source": [
    "if x = 5:\n",
    "    print(\"It's 5\")"
   ]
  },
  {
   "cell_type": "markdown",
   "id": "a8425502",
   "metadata": {},
   "source": [
    "### 2. Indentation Error\n",
    "Python is very strict in the indentation. Blocks of codes are identified by white spaces in Python. Tabs can be used too. But mixing of tab and whitespaces together should be avoided. \n",
    "\n",
    "The below example is of a for loop in python. The inside block of the loop must be seperated from the for statement by either combination of four whitespaces, or a tab should be used."
   ]
  },
  {
   "cell_type": "code",
   "execution_count": 7,
   "id": "30b83760",
   "metadata": {},
   "outputs": [
    {
     "ename": "IndentationError",
     "evalue": "expected an indented block after 'for' statement on line 1 (3979827255.py, line 2)",
     "output_type": "error",
     "traceback": [
      "\u001b[1;36m  Cell \u001b[1;32mIn[7], line 2\u001b[1;36m\u001b[0m\n\u001b[1;33m    print(i)\u001b[0m\n\u001b[1;37m    ^\u001b[0m\n\u001b[1;31mIndentationError\u001b[0m\u001b[1;31m:\u001b[0m expected an indented block after 'for' statement on line 1\n"
     ]
    }
   ],
   "source": [
    "for i in range(5):\n",
    "print(i)"
   ]
  },
  {
   "cell_type": "markdown",
   "id": "dd267c8d",
   "metadata": {},
   "source": [
    "### 3. Name Error\n",
    "This error occurs when you try to access a variable that doesn't exists."
   ]
  },
  {
   "cell_type": "code",
   "execution_count": 10,
   "id": "2a64c830",
   "metadata": {},
   "outputs": [
    {
     "ename": "NameError",
     "evalue": "name 'varible' is not defined",
     "output_type": "error",
     "traceback": [
      "\u001b[1;31m---------------------------------------------------------------------------\u001b[0m",
      "\u001b[1;31mNameError\u001b[0m                                 Traceback (most recent call last)",
      "Cell \u001b[1;32mIn[10], line 2\u001b[0m\n\u001b[0;32m      1\u001b[0m variable \u001b[38;5;241m=\u001b[39m \u001b[38;5;124m\"\u001b[39m\u001b[38;5;124mI will be called wrongly\u001b[39m\u001b[38;5;124m\"\u001b[39m\n\u001b[1;32m----> 2\u001b[0m \u001b[38;5;28mprint\u001b[39m(varible)\n",
      "\u001b[1;31mNameError\u001b[0m: name 'varible' is not defined"
     ]
    }
   ],
   "source": [
    "variable = \"I will be called wrongly\"\n",
    "print(varible)"
   ]
  },
  {
   "cell_type": "markdown",
   "id": "e4ac1fc2",
   "metadata": {},
   "source": [
    "# D. Typecasting"
   ]
  },
  {
   "cell_type": "markdown",
   "id": "9f5859cd",
   "metadata": {},
   "source": [
    "### 1. Implicit Typecasting\n",
    "Some types are defaultly understood by python"
   ]
  },
  {
   "cell_type": "code",
   "execution_count": 30,
   "id": "485ee907",
   "metadata": {},
   "outputs": [
    {
     "name": "stdout",
     "output_type": "stream",
     "text": [
      "<class 'int'>\n"
     ]
    }
   ],
   "source": [
    "# Python will assign integer type to variable a \n",
    "a = 5\n",
    "print(type(a))"
   ]
  },
  {
   "cell_type": "code",
   "execution_count": 31,
   "id": "90cfd98c",
   "metadata": {},
   "outputs": [
    {
     "name": "stdout",
     "output_type": "stream",
     "text": [
      "<class 'str'>\n"
     ]
    }
   ],
   "source": [
    "# Python will assign string type to variable b \n",
    "b = \"Typecasting\"\n",
    "print(type(b))"
   ]
  },
  {
   "cell_type": "code",
   "execution_count": 32,
   "id": "699602b3",
   "metadata": {},
   "outputs": [
    {
     "name": "stdout",
     "output_type": "stream",
     "text": [
      "<class 'float'>\n"
     ]
    }
   ],
   "source": [
    "# Python will assign float type to variable c\n",
    "c = 25.9\n",
    "print(type(c))"
   ]
  },
  {
   "cell_type": "markdown",
   "id": "0ed4904a",
   "metadata": {},
   "source": [
    "### 2. Explicit Typecasting\n",
    "User can convert one datatype to another"
   ]
  },
  {
   "cell_type": "code",
   "execution_count": 35,
   "id": "7af63bc4",
   "metadata": {},
   "outputs": [
    {
     "name": "stdout",
     "output_type": "stream",
     "text": [
      "<class 'float'>\n"
     ]
    }
   ],
   "source": [
    "# convert the variable a to float\n",
    "a = float(a)\n",
    "print(type(a))"
   ]
  },
  {
   "cell_type": "markdown",
   "id": "aadd4321",
   "metadata": {},
   "source": [
    "##### Watch out that the part after the decimal point is ommited when converting a float to integer"
   ]
  },
  {
   "cell_type": "code",
   "execution_count": 36,
   "id": "682117b6",
   "metadata": {},
   "outputs": [
    {
     "name": "stdout",
     "output_type": "stream",
     "text": [
      "Value of c in float is 25.9\n",
      "I am an <class 'int'> type variable and my value is 25\n"
     ]
    }
   ],
   "source": [
    "# convert float to integer\n",
    "print(f'Value of c in float is {c}')\n",
    "c = int(c)\n",
    "print(f'I am an {type(c)} type variable and my value is {c}')"
   ]
  },
  {
   "cell_type": "code",
   "execution_count": 38,
   "id": "0bb6a98c",
   "metadata": {
    "scrolled": true
   },
   "outputs": [
    {
     "name": "stdout",
     "output_type": "stream",
     "text": [
      "25\n",
      "<class 'str'>\n"
     ]
    }
   ],
   "source": [
    "# convert integer to string\n",
    "s = str(c)\n",
    "print(s)\n",
    "print(type(s))"
   ]
  },
  {
   "cell_type": "markdown",
   "id": "74fe8018",
   "metadata": {},
   "source": [
    "# E. Indexing"
   ]
  },
  {
   "cell_type": "markdown",
   "id": "c021d385",
   "metadata": {},
   "source": [
    "Considering a string as an ordered sequence is a helpful perspective. Each element within this sequence can be accessed through an index, typically represented by an array of numbers:"
   ]
  },
  {
   "cell_type": "code",
   "execution_count": 2,
   "id": "a3effb0b",
   "metadata": {},
   "outputs": [],
   "source": [
    "Name = \"Shey Phokshundo\""
   ]
  },
  {
   "cell_type": "markdown",
   "id": "d2a29e23",
   "metadata": {},
   "source": [
    "<img src=\"https://abhishekpoudel.com/wp-content/uploads/2024/04/SheyPhoksundo.png\" width=\"600\" align=\"center\" />"
   ]
  },
  {
   "cell_type": "markdown",
   "id": "ab097266",
   "metadata": {},
   "source": [
    "<hr/>\n",
    "<div class=\"alert alert-success alertsuccess\" style=\"margin-top: 20px\">\n",
    "[Tip]: Because indexing starts at 0, it means the first index is on the index 0.\n",
    "</div>\n",
    "<hr/>"
   ]
  },
  {
   "cell_type": "markdown",
   "id": "20186411",
   "metadata": {},
   "source": [
    "### 1. Forward (Positive) Indexing"
   ]
  },
  {
   "cell_type": "code",
   "execution_count": 3,
   "id": "a87cf001",
   "metadata": {},
   "outputs": [
    {
     "name": "stdout",
     "output_type": "stream",
     "text": [
      "S\n"
     ]
    }
   ],
   "source": [
    "# Print the first element in the string\n",
    "\n",
    "print(Name[0])"
   ]
  },
  {
   "cell_type": "code",
   "execution_count": 4,
   "id": "239d4014",
   "metadata": {},
   "outputs": [
    {
     "name": "stdout",
     "output_type": "stream",
     "text": [
      "d\n"
     ]
    }
   ],
   "source": [
    "# Print the element on the 13th index in the string\n",
    "\n",
    "print(Name[13])"
   ]
  },
  {
   "cell_type": "markdown",
   "id": "5e443860",
   "metadata": {},
   "source": [
    "### 2. Negative Indexing"
   ]
  },
  {
   "cell_type": "markdown",
   "id": "a583abdf",
   "metadata": {},
   "source": [
    "<img src=\"https://abhishekpoudel.com/wp-content/uploads/2024/04/Negative-Indexing.png\" width=\"600\" align=\"center\" />"
   ]
  },
  {
   "cell_type": "code",
   "execution_count": 8,
   "id": "09936c13",
   "metadata": {},
   "outputs": [
    {
     "name": "stdout",
     "output_type": "stream",
     "text": [
      "P\n"
     ]
    }
   ],
   "source": [
    "# Print the 10th element from last in the string\n",
    "print(Name[-10])"
   ]
  },
  {
   "cell_type": "code",
   "execution_count": 7,
   "id": "0bc61fad",
   "metadata": {},
   "outputs": [
    {
     "name": "stdout",
     "output_type": "stream",
     "text": [
      "o\n"
     ]
    }
   ],
   "source": [
    "# Print the last element in the string\n",
    "print(Name[-1])"
   ]
  },
  {
   "cell_type": "markdown",
   "id": "df89f03a",
   "metadata": {},
   "source": [
    "# F. Slicing "
   ]
  },
  {
   "cell_type": "markdown",
   "id": "968f4b37",
   "metadata": {},
   "source": [
    "<img src=\"https://abhishekpoudel.com/wp-content/uploads/2024/04/Slicing.png\" width=\"600\" align=\"center\" />"
   ]
  },
  {
   "cell_type": "markdown",
   "id": "c32adb40",
   "metadata": {},
   "source": [
    "<hr/>\n",
    "<div class=\"alert alert-success alertsuccess\" style=\"margin-top: 20px\">\n",
    "[Tip]: When taking the slice X[i:n], the first number means the index, and the second number (n) means upto the n'th element(which is always at index n-1) \n",
    "</div>\n",
    "<hr/>"
   ]
  },
  {
   "cell_type": "code",
   "execution_count": 9,
   "id": "afb4f82b",
   "metadata": {},
   "outputs": [
    {
     "name": "stdout",
     "output_type": "stream",
     "text": [
      "Shey P\n"
     ]
    }
   ],
   "source": [
    "print(Name[0:6])"
   ]
  },
  {
   "cell_type": "code",
   "execution_count": 10,
   "id": "d027604e",
   "metadata": {},
   "outputs": [
    {
     "name": "stdout",
     "output_type": "stream",
     "text": [
      "hun\n"
     ]
    }
   ],
   "source": [
    "print(Name[10:13])"
   ]
  },
  {
   "cell_type": "code",
   "execution_count": 11,
   "id": "38553c2b",
   "metadata": {},
   "outputs": [
    {
     "data": {
      "text/plain": [
       "'Shey P'"
      ]
     },
     "execution_count": 11,
     "metadata": {},
     "output_type": "execute_result"
    }
   ],
   "source": [
    "# Print from start to nth element\n",
    "Name[:6]"
   ]
  },
  {
   "cell_type": "code",
   "execution_count": 12,
   "id": "3001df10",
   "metadata": {},
   "outputs": [
    {
     "data": {
      "text/plain": [
       "'hokshundo'"
      ]
     },
     "execution_count": 12,
     "metadata": {},
     "output_type": "execute_result"
    }
   ],
   "source": [
    "# Print from nth index to last element\n",
    "Name[6:]"
   ]
  },
  {
   "cell_type": "markdown",
   "id": "b1b71c0f",
   "metadata": {},
   "source": [
    "# G. Escape Characters\n",
    "Backslashes serve as the start of escape sequences, which are used to represent strings that might be challenging to input directly. For instance, the backslash followed by \"n\" (\\n) represents a new line. When encountered, the output includes a new line after the backslash \"n\" is processed:"
   ]
  },
  {
   "cell_type": "code",
   "execution_count": 13,
   "id": "58f703ec",
   "metadata": {},
   "outputs": [
    {
     "name": "stdout",
     "output_type": "stream",
     "text": [
      " Michael Jackson \n",
      " is the best\n"
     ]
    }
   ],
   "source": [
    "# New line escape sequence\n",
    "\n",
    "print(\" Michael Jackson \\n is the best\" )"
   ]
  },
  {
   "cell_type": "code",
   "execution_count": 14,
   "id": "2c447273",
   "metadata": {},
   "outputs": [
    {
     "name": "stdout",
     "output_type": "stream",
     "text": [
      " Michael Jackson \t is the best\n"
     ]
    }
   ],
   "source": [
    "# Tab escape sequence\n",
    "\n",
    "print(\" Michael Jackson \\t is the best\" )"
   ]
  },
  {
   "cell_type": "markdown",
   "id": "4a21a4a2",
   "metadata": {},
   "source": [
    "##### If you want to place a back slash in your string, use a double back slash:"
   ]
  },
  {
   "cell_type": "code",
   "execution_count": 16,
   "id": "713ec7d4",
   "metadata": {},
   "outputs": [
    {
     "name": "stdout",
     "output_type": "stream",
     "text": [
      " Michael Jackson \\ is the best\n"
     ]
    }
   ],
   "source": [
    "# Include back slash in string\n",
    "\n",
    "print(\" Michael Jackson \\\\ is the best\" )"
   ]
  },
  {
   "cell_type": "markdown",
   "id": "bd18df34",
   "metadata": {},
   "source": [
    "#####  We can also place an \"r\" before the string to display the backslash:"
   ]
  },
  {
   "cell_type": "code",
   "execution_count": 17,
   "id": "6dfc9c92",
   "metadata": {},
   "outputs": [
    {
     "name": "stdout",
     "output_type": "stream",
     "text": [
      " Michael Jackson \\ is the best\n"
     ]
    }
   ],
   "source": [
    "# r will tell python that string will be display as raw string\n",
    "\n",
    "print(r\" Michael Jackson \\ is the best\" )"
   ]
  },
  {
   "cell_type": "markdown",
   "id": "f3a40aaf",
   "metadata": {},
   "source": [
    "#### Yo can find other escape characters here: \n",
    "<img src = \"https://abhishekpoudel.com/wp-content/uploads/2024/04/escape-charaters.png\" width=\"600\" align=\"center\" /> "
   ]
  },
  {
   "cell_type": "markdown",
   "id": "9653c75b",
   "metadata": {},
   "source": [
    "# H. String Operations"
   ]
  },
  {
   "cell_type": "code",
   "execution_count": 19,
   "id": "13817556",
   "metadata": {},
   "outputs": [
    {
     "name": "stdout",
     "output_type": "stream",
     "text": [
      "before upper: Shey Phokshundo is a lake in Nepal\n",
      "After upper: SHEY PHOKSHUNDO IS A LAKE IN NEPAL\n"
     ]
    }
   ],
   "source": [
    "# Convert all the characters in string to upper case\n",
    "\n",
    "A = \"Shey Phokshundo is a lake in Nepal\"\n",
    "print(\"before upper:\", A)\n",
    "B = A.upper()\n",
    "print(\"After upper:\", B)"
   ]
  },
  {
   "cell_type": "code",
   "execution_count": 20,
   "id": "6ec1761f",
   "metadata": {},
   "outputs": [
    {
     "data": {
      "text/plain": [
       "'Rara is a lake in Nepal'"
      ]
     },
     "execution_count": 20,
     "metadata": {},
     "output_type": "execute_result"
    }
   ],
   "source": [
    "# Replace the old substring with the new target substring is the segment has been found in the string\n",
    "\n",
    "A = \"Shey Phokshundo is a lake in Nepal\"\n",
    "B = A.replace('Shey Phokshundo', 'Rara')\n",
    "B"
   ]
  },
  {
   "cell_type": "code",
   "execution_count": 21,
   "id": "da2c3255",
   "metadata": {},
   "outputs": [
    {
     "data": {
      "text/plain": [
       "1"
      ]
     },
     "execution_count": 21,
     "metadata": {},
     "output_type": "execute_result"
    }
   ],
   "source": [
    "# Find the substring in the string. Only the index of the first elment of substring in string will be the output\n",
    "\n",
    "Name = \"Langtang National Park\"\n",
    "Name.find('ang')"
   ]
  },
  {
   "cell_type": "code",
   "execution_count": 22,
   "id": "c1bae4dd",
   "metadata": {},
   "outputs": [
    {
     "data": {
      "text/plain": [
       "-1"
      ]
     },
     "execution_count": 22,
     "metadata": {},
     "output_type": "execute_result"
    }
   ],
   "source": [
    "# If cannot find the substring in the string, return will be a -1\n",
    "\n",
    "Name.find('Jasdfasdasdf')"
   ]
  },
  {
   "cell_type": "code",
   "execution_count": null,
   "id": "811439e9",
   "metadata": {},
   "outputs": [],
   "source": []
  }
 ],
 "metadata": {
  "kernelspec": {
   "display_name": "Python 3 (ipykernel)",
   "language": "python",
   "name": "python3"
  },
  "language_info": {
   "codemirror_mode": {
    "name": "ipython",
    "version": 3
   },
   "file_extension": ".py",
   "mimetype": "text/x-python",
   "name": "python",
   "nbconvert_exporter": "python",
   "pygments_lexer": "ipython3",
   "version": "3.11.5"
  }
 },
 "nbformat": 4,
 "nbformat_minor": 5
}
