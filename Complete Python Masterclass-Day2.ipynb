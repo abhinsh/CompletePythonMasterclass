{
 "cells": [
  {
   "cell_type": "markdown",
   "id": "c48aea7c",
   "metadata": {},
   "source": [
    "<div class=\"alert alert-block alert-info\" style=\"margin-top: 20px\">\n",
    "<a href=\"https://abhishekpoudel.com/category/python/\">\n",
    "<img src = \"https://abhishekpoudel.com/wp-content/uploads/2024/04/Python-Complete-Masterclass-abhishekpoudel.png\" width=\"250\" length=\"400\" align=\"center\" /> </a>"
   ]
  },
  {
   "cell_type": "markdown",
   "id": "3900e4b2",
   "metadata": {},
   "source": [
    "<h1> Complete Python Masterclass Day 2 </h1>\n",
    "<h2> Table of Contents </h2>\n",
    "\n",
    "A. Operators and Operations\n",
    "    \n",
    "         1. String Concatenation\n",
    "         2. Mathematical Operations\n",
    "             i. Algebra\n",
    "             ii. Power\n",
    "             iii. Roots\n",
    "         3. Operators\n",
    "\n",
    "B. Tuple\n",
    "    \n",
    "         1. Defining a tuple\n",
    "         2. Indexing a tuple\n",
    "         3. Slicing a tuple\n",
    "         4. Concatenate tuples\n",
    "         5. Nested tuple\n",
    "         6. Immutable Property of a tuple\n",
    "\n",
    "C. Lists\n",
    "    \n",
    "         1. Defining a list\n",
    "         2. Indexing a list\n",
    "         3. Slicing a list\n",
    "         4. Concatenate lists\n",
    "         5. Nested list\n",
    "         6. Mutable Property of a list\n",
    "         7. Append and Extend Functions\n",
    "         8. Split Function\n",
    "         9. Copy and Clone in List\n",
    "\n",
    "D. Dictionary\n",
    "    \n",
    "         1. Defining a dictionary\n",
    "         2. Keys\n",
    "         3. Values\n",
    "         4. Access the elements\n",
    "         5. Add/Remove/Update a key-value pair\n",
    "         6. Check if an element exists or not\n",
    "         \n",
    "         "
   ]
  },
  {
   "cell_type": "markdown",
   "id": "5cb37c9b",
   "metadata": {},
   "source": [
    "# A. Operators and Operations"
   ]
  },
  {
   "cell_type": "markdown",
   "id": "6f124e04",
   "metadata": {},
   "source": [
    "### 1. String Concatenation"
   ]
  },
  {
   "cell_type": "code",
   "execution_count": 1,
   "id": "b769b429",
   "metadata": {},
   "outputs": [
    {
     "name": "stdout",
     "output_type": "stream",
     "text": [
      "I am a string.\n",
      "And me too.\n",
      "I am a string.And me too.\n"
     ]
    }
   ],
   "source": [
    "# String Concatenation\n",
    "var1 = \"I am a string.\"\n",
    "print(var1)\n",
    "\n",
    "var2 = \"And me too.\"\n",
    "print(var2)\n",
    "\n",
    "var3 = var1+var2\n",
    "print(var3)\n"
   ]
  },
  {
   "cell_type": "markdown",
   "id": "eb0c1889",
   "metadata": {},
   "source": [
    "### 2. Mathematical Operations\n",
    "Algebric Operations, Modulus,Floor Division, Power, Roots"
   ]
  },
  {
   "cell_type": "markdown",
   "id": "c8b80173",
   "metadata": {},
   "source": [
    "#### i. Algebra"
   ]
  },
  {
   "cell_type": "code",
   "execution_count": 3,
   "id": "31e1a5df",
   "metadata": {},
   "outputs": [
    {
     "name": "stdout",
     "output_type": "stream",
     "text": [
      "20 degrees in Celcius is 68.0 degrees in Fahrenheit\n"
     ]
    }
   ],
   "source": [
    "# convert celcius to fahrenheit\n",
    "temp_c = 20\n",
    "temp_f = (temp_c * 9/5) + 32\n",
    "print(f'{temp_c} degrees in Celcius is {temp_f} degrees in Fahrenheit')"
   ]
  },
  {
   "cell_type": "code",
   "execution_count": 14,
   "id": "c9a23e56",
   "metadata": {},
   "outputs": [
    {
     "name": "stdout",
     "output_type": "stream",
     "text": [
      "1\n"
     ]
    }
   ],
   "source": [
    "# modulus (Get the remainder from the division)\n",
    "print(5 % 2)"
   ]
  },
  {
   "cell_type": "code",
   "execution_count": 18,
   "id": "c3ae03e7",
   "metadata": {},
   "outputs": [
    {
     "name": "stdout",
     "output_type": "stream",
     "text": [
      "2\n"
     ]
    }
   ],
   "source": [
    "# Quotient from the division (Floor DIvision)\n",
    "print(5 // 2)"
   ]
  },
  {
   "cell_type": "markdown",
   "id": "36ca8d9f",
   "metadata": {},
   "source": [
    "#### ii. Power\n",
    "Power can be obtained by using two asterick(*) signs"
   ]
  },
  {
   "cell_type": "code",
   "execution_count": 10,
   "id": "f30ba476",
   "metadata": {},
   "outputs": [
    {
     "name": "stdout",
     "output_type": "stream",
     "text": [
      "125\n"
     ]
    }
   ],
   "source": [
    "#below is an example to calculate the cube of a number\n",
    "a = 5\n",
    "b = a**3\n",
    "print(b)"
   ]
  },
  {
   "cell_type": "markdown",
   "id": "0f52abb2",
   "metadata": {},
   "source": [
    "#### iii. Roots\n",
    "Roots can be obtained in the same way as power, but this time we supply the value of the power in reciprocal format.\n",
    "There are other ways as well to obtain roots, which we will discuss in near future. "
   ]
  },
  {
   "cell_type": "code",
   "execution_count": 12,
   "id": "90de31d3",
   "metadata": {},
   "outputs": [
    {
     "name": "stdout",
     "output_type": "stream",
     "text": [
      "5.0\n"
     ]
    }
   ],
   "source": [
    "# calculate cube root of 125\n",
    "a = 125\n",
    "b = a**(1/3)\n",
    "print(b)"
   ]
  },
  {
   "cell_type": "markdown",
   "id": "92945469",
   "metadata": {},
   "source": [
    "###### you can easily try multiple other mathematical operations on your own"
   ]
  },
  {
   "cell_type": "markdown",
   "id": "1c96b79a",
   "metadata": {},
   "source": [
    "### 3. Operators\n",
    "Python categorizes operators into the following groups:\n",
    "\n",
    "1. Arithmetic operators: Used for Mathematical Operations\n",
    "\n",
    "2. Assignment operators: Use to assign/store/modify value to/of a variable\n",
    "\n",
    "3. Comparison operators: Compare two or more variables\n",
    "\n",
    "4. Logical operators: Used to combine statements. (and, or, not)\n",
    "\n",
    "5. Identity operators: Identity operators serve the purpose of comparing objects not for equality but to determine if they are actually the same object, residing in the same memory location.\n",
    "\n",
    "6. Membership operators: Membership operators are utilized to check whether a sequence is present within an object.\n",
    "\n",
    "7. Bitwise operators: Bitwise operators are employed to perform comparisons on binary numbers.\n",
    "\n",
    "We will look at some examples from each type of operators. Once we grasp the frequently used ones, we can always dive to other types. "
   ]
  },
  {
   "cell_type": "markdown",
   "id": "19a3c808",
   "metadata": {},
   "source": [
    "#### i. Arithmetic Operations\n",
    "This part has bee covered in section A.2. "
   ]
  },
  {
   "cell_type": "markdown",
   "id": "20758700",
   "metadata": {},
   "source": [
    "#### ii. Assignment Operators"
   ]
  },
  {
   "cell_type": "code",
   "execution_count": 22,
   "id": "169e5576",
   "metadata": {},
   "outputs": [],
   "source": [
    "# Assign a value to a variable \n",
    "variable1 = 5"
   ]
  },
  {
   "cell_type": "markdown",
   "id": "a27ef8d8",
   "metadata": {},
   "source": [
    "##### The += operator, known as the plus-equals operator, offers a convenient method for adding a value to an existing variable and then assigning the new value back to the same variable.\n"
   ]
  },
  {
   "cell_type": "code",
   "execution_count": 23,
   "id": "32be1430",
   "metadata": {},
   "outputs": [
    {
     "name": "stdout",
     "output_type": "stream",
     "text": [
      "9\n"
     ]
    }
   ],
   "source": [
    "# the += operator\n",
    "\n",
    "variable1 += 4\n",
    "print(variable1)"
   ]
  },
  {
   "cell_type": "markdown",
   "id": "1c3dba29",
   "metadata": {},
   "source": [
    "#### iii. Comparison Operators\n",
    "Used to compare two values\n",
    "\n",
    "<p>1. ==\tEqual\tx == y</p>\n",
    "<p>2. !=\tNot equal\tx != y</p>\n",
    "<p>3. >\tGreater than\tx > y</p>\n",
    "<p>4. <\tLess than\tx < y</p>\n",
    "<p>5. >=\tGreater than or equal to\tx >= y</p>\n",
    "<p>6. <=\tLess than or equal to\t\tx <= y</p>"
   ]
  },
  {
   "cell_type": "code",
   "execution_count": 26,
   "id": "6989bac7",
   "metadata": {},
   "outputs": [
    {
     "data": {
      "text/plain": [
       "False"
      ]
     },
     "execution_count": 26,
     "metadata": {},
     "output_type": "execute_result"
    }
   ],
   "source": [
    "variable1 == a"
   ]
  },
  {
   "cell_type": "code",
   "execution_count": 27,
   "id": "8d5a22f9",
   "metadata": {},
   "outputs": [
    {
     "data": {
      "text/plain": [
       "True"
      ]
     },
     "execution_count": 27,
     "metadata": {},
     "output_type": "execute_result"
    }
   ],
   "source": [
    "variable1 != a"
   ]
  },
  {
   "cell_type": "code",
   "execution_count": 28,
   "id": "2a80fbc4",
   "metadata": {},
   "outputs": [
    {
     "data": {
      "text/plain": [
       "False"
      ]
     },
     "execution_count": 28,
     "metadata": {},
     "output_type": "execute_result"
    }
   ],
   "source": [
    "variable1 > a"
   ]
  },
  {
   "cell_type": "code",
   "execution_count": 29,
   "id": "bbf781ea",
   "metadata": {},
   "outputs": [
    {
     "data": {
      "text/plain": [
       "True"
      ]
     },
     "execution_count": 29,
     "metadata": {},
     "output_type": "execute_result"
    }
   ],
   "source": [
    "variable1 < a"
   ]
  },
  {
   "cell_type": "code",
   "execution_count": 30,
   "id": "97393157",
   "metadata": {},
   "outputs": [
    {
     "data": {
      "text/plain": [
       "False"
      ]
     },
     "execution_count": 30,
     "metadata": {},
     "output_type": "execute_result"
    }
   ],
   "source": [
    "variable1 >= a"
   ]
  },
  {
   "cell_type": "code",
   "execution_count": 31,
   "id": "b53020a7",
   "metadata": {},
   "outputs": [
    {
     "data": {
      "text/plain": [
       "True"
      ]
     },
     "execution_count": 31,
     "metadata": {},
     "output_type": "execute_result"
    }
   ],
   "source": [
    "variable1 <= a"
   ]
  },
  {
   "cell_type": "markdown",
   "id": "33b60b36",
   "metadata": {},
   "source": [
    "#### iv. Logical Operators\n",
    "<p>1. \"and\" \tReturns True if both statements are true\tx < 5 and  x < 10 </p>\n",
    "<p>2. \"or\"\tReturns True if one of the statements is true\tx < 5 or x < 4 </p>\n",
    "<p>3. \"not\"\tReverse the result, returns False if the result is true\tnot(x < 5 and x < 10) </p>\t\n"
   ]
  },
  {
   "cell_type": "code",
   "execution_count": 32,
   "id": "54f7d6b5",
   "metadata": {},
   "outputs": [
    {
     "data": {
      "text/plain": [
       "True"
      ]
     },
     "execution_count": 32,
     "metadata": {},
     "output_type": "execute_result"
    }
   ],
   "source": [
    "x= 4\n",
    "x < 5 and x < 10"
   ]
  },
  {
   "cell_type": "code",
   "execution_count": 33,
   "id": "fc10d425",
   "metadata": {},
   "outputs": [
    {
     "data": {
      "text/plain": [
       "True"
      ]
     },
     "execution_count": 33,
     "metadata": {},
     "output_type": "execute_result"
    }
   ],
   "source": [
    "x < 5 or x < 4"
   ]
  },
  {
   "cell_type": "code",
   "execution_count": 34,
   "id": "03f7662d",
   "metadata": {},
   "outputs": [
    {
     "data": {
      "text/plain": [
       "False"
      ]
     },
     "execution_count": 34,
     "metadata": {},
     "output_type": "execute_result"
    }
   ],
   "source": [
    "not(x < 5 and x < 10)"
   ]
  },
  {
   "cell_type": "markdown",
   "id": "4064e464",
   "metadata": {},
   "source": [
    "#### v. Identity Operators\n",
    "<p>1. \"is\" \tReturns True if both variables are the same object\tx is y\t\n",
    "<p>2. \"is not\"\tReturns True if both variables are not the same object\tx is not y"
   ]
  },
  {
   "cell_type": "code",
   "execution_count": 35,
   "id": "f1a8a02b",
   "metadata": {},
   "outputs": [],
   "source": [
    "x = [\"apple\", \"banana\"]\n",
    "y = [\"apple\", \"banana\"]\n",
    "z = x"
   ]
  },
  {
   "cell_type": "code",
   "execution_count": 36,
   "id": "b2487455",
   "metadata": {},
   "outputs": [
    {
     "name": "stdout",
     "output_type": "stream",
     "text": [
      "True\n"
     ]
    }
   ],
   "source": [
    "print(x is z)\n",
    "\n",
    "# returns True because z is the same object as x"
   ]
  },
  {
   "cell_type": "code",
   "execution_count": 37,
   "id": "251bf2a3",
   "metadata": {},
   "outputs": [
    {
     "name": "stdout",
     "output_type": "stream",
     "text": [
      "False\n"
     ]
    }
   ],
   "source": [
    "print(x is y)\n",
    "\n",
    "# returns False because x is not the same object as y, even if they have the same content"
   ]
  },
  {
   "cell_type": "code",
   "execution_count": 38,
   "id": "70f1d29c",
   "metadata": {},
   "outputs": [
    {
     "name": "stdout",
     "output_type": "stream",
     "text": [
      "True\n"
     ]
    }
   ],
   "source": [
    "print(x == y)\n",
    "\n",
    "# to demonstrate the difference betweeen \"is\" and \"==\": this comparison returns True because x is equal to y"
   ]
  },
  {
   "cell_type": "markdown",
   "id": "b1e285a3",
   "metadata": {},
   "source": [
    "#### vi. Membership Operators\n",
    "<p>1. \"in\" \tReturns True if a sequence with the specified value is present in the object\tx in y\t\n",
    "<p>2. \"not in\"\tReturns True if a sequence with the specified value is not present in the object\tx not in y"
   ]
  },
  {
   "cell_type": "code",
   "execution_count": 39,
   "id": "f9081f03",
   "metadata": {},
   "outputs": [
    {
     "name": "stdout",
     "output_type": "stream",
     "text": [
      "True\n"
     ]
    }
   ],
   "source": [
    "print(\"banana\" in x)\n",
    "\n",
    "# returns True because a sequence with the value \"banana\" is in the list\n"
   ]
  },
  {
   "cell_type": "code",
   "execution_count": 40,
   "id": "bf76231b",
   "metadata": {},
   "outputs": [
    {
     "name": "stdout",
     "output_type": "stream",
     "text": [
      "True\n"
     ]
    }
   ],
   "source": [
    "print(\"pineapple\" not in x)\n",
    "\n",
    "# returns True because a sequence with the value \"pineapple\" is not in the list"
   ]
  },
  {
   "cell_type": "markdown",
   "id": "48c5cd5e",
   "metadata": {},
   "source": [
    "#### vii. Bitwise Operators\n",
    "<p>1. \"&\" \tAND\tSets each bit to 1 if both bits are 1\tx & y\t\n",
    "<p>2. \"|\"\tOR\tSets each bit to 1 if one of two bits is 1\tx | y\t\n",
    "<p>3. \"^\"\tXOR\tSets each bit to 1 if only one of two bits is 1\tx ^ y\t\n",
    "<p>4. \"~\"\tNOT\tInverts all the bits\t~x\t\n",
    "<p>5. \"<<\"\tZero fill left shift\tShift left by pushing zeros in from the right and let the leftmost bits fall off\tx << 2\t\n",
    "<p>6. \">>\"\tSigned right shift\tShift right by pushing copies of the leftmost bit in from the left, and let the rightmost bits fall off\tx >> 2"
   ]
  },
  {
   "cell_type": "code",
   "execution_count": 42,
   "id": "8973ac90",
   "metadata": {},
   "outputs": [
    {
     "name": "stdout",
     "output_type": "stream",
     "text": [
      "2\n"
     ]
    },
    {
     "data": {
      "text/plain": [
       "'\\nThe & operator compares each bit and set it to 1 if both are 1, otherwise it is set to 0:\\n\\n6 = 0000000000000110\\n3 = 0000000000000011\\n--------------------\\n2 = 0000000000000010\\n====================\\n'"
      ]
     },
     "execution_count": 42,
     "metadata": {},
     "output_type": "execute_result"
    }
   ],
   "source": [
    "print(6 & 3)\n",
    "\"\"\"\n",
    "The & operator compares each bit and set it to 1 if both are 1, otherwise it is set to 0:\n",
    "6 = 0000000000000110\n",
    "3 = 0000000000000011\n",
    "--------------------\n",
    "2 = 0000000000000010\n",
    "====================\n",
    "\"\"\""
   ]
  },
  {
   "cell_type": "markdown",
   "id": "aa0f1fad",
   "metadata": {},
   "source": [
    "<hr/>\n",
    "<div class=\"alert alert-success alertsuccess\" style=\"margin-top: 20px\">\n",
    "[Note]: You can try other Bitwise Operations similarly\n",
    "</div>\n",
    "<hr/>"
   ]
  },
  {
   "cell_type": "markdown",
   "id": "23445020",
   "metadata": {},
   "source": [
    "#### viii. Precedence Order\n",
    "Highest precedence to lower:\n",
    "<p>1. ()\tParentheses\t\n",
    "<p>2. **\tExponentiation\t\n",
    "<p>3. +x  -x  ~x\tUnary plus, unary minus, and bitwise NOT\t\n",
    "<p>4. *  /  //  %\tMultiplication, division, floor division, and modulus\t\n",
    "<p>5. +  -\tAddition and subtraction\t\n",
    "<p>6. <<  >>\tBitwise left and right shifts\t\n",
    "<p>7. &\tBitwise AND\t\n",
    "<p>8. ^\tBitwise XOR\t\n",
    "<p>9. |\tBitwise OR\t\n",
    "<p>10. ==  !=  >  >=  <  <=  is  is not  in  not in \tComparisons, identity, and membership operators\t\n",
    "<p>11. not\tLogical NOT\t\n",
    "<p>12. and\tAND\t\n",
    "<p>13. or\tOR"
   ]
  },
  {
   "cell_type": "markdown",
   "id": "eb2a8326",
   "metadata": {},
   "source": [
    "<hr/>\n",
    "<div class=\"alert alert-success alertsuccess\" style=\"margin-top: 20px\">\n",
    "[Note]: For the operators of same precendence, statement are evaluated from left to right\n",
    "</div>\n",
    "<hr/>"
   ]
  },
  {
   "cell_type": "markdown",
   "id": "36a86085",
   "metadata": {},
   "source": [
    "# B. Tuples\n",
    "<p>i. Are ordered sequences i.e. they record element's position\n",
    "<p>ii. Can have multiple data types within them, but the collective is a tuple at last\n",
    "<p>iii. Created using the parenthesis symbol\n",
    "<p>iv. Are immutable objects"
   ]
  },
  {
   "cell_type": "markdown",
   "id": "cb254699",
   "metadata": {},
   "source": [
    "### 1. Defining a tuple"
   ]
  },
  {
   "cell_type": "code",
   "execution_count": 45,
   "id": "cc5a6efe",
   "metadata": {},
   "outputs": [
    {
     "data": {
      "text/plain": [
       "('disco', 10, 1.2)"
      ]
     },
     "execution_count": 45,
     "metadata": {},
     "output_type": "execute_result"
    }
   ],
   "source": [
    "# Create your first tuple\n",
    "\n",
    "tuple1 = (\"disco\",10,1.2 )\n",
    "tuple1"
   ]
  },
  {
   "cell_type": "code",
   "execution_count": 46,
   "id": "f77ec01d",
   "metadata": {},
   "outputs": [
    {
     "data": {
      "text/plain": [
       "tuple"
      ]
     },
     "execution_count": 46,
     "metadata": {},
     "output_type": "execute_result"
    }
   ],
   "source": [
    "# Print the type of the tuple you created\n",
    "\n",
    "type(tuple1)"
   ]
  },
  {
   "cell_type": "markdown",
   "id": "a8425502",
   "metadata": {},
   "source": [
    "### 2. Indexing in Tuple\n",
    "Similar to strings, the indexing in tuple also works in same manner"
   ]
  },
  {
   "cell_type": "code",
   "execution_count": 47,
   "id": "30b83760",
   "metadata": {},
   "outputs": [
    {
     "name": "stdout",
     "output_type": "stream",
     "text": [
      "disco\n",
      "10\n",
      "1.2\n"
     ]
    }
   ],
   "source": [
    "# Print the variable on each index\n",
    "\n",
    "print(tuple1[0])\n",
    "print(tuple1[1])\n",
    "print(tuple1[2])"
   ]
  },
  {
   "cell_type": "code",
   "execution_count": 49,
   "id": "e08f3ad3",
   "metadata": {},
   "outputs": [
    {
     "name": "stdout",
     "output_type": "stream",
     "text": [
      "<class 'str'>\n"
     ]
    }
   ],
   "source": [
    "# the individual elements of tuple still belong to their parent class\n",
    "print(type(tuple1[0]))"
   ]
  },
  {
   "cell_type": "code",
   "execution_count": 50,
   "id": "4e90f400",
   "metadata": {},
   "outputs": [
    {
     "name": "stdout",
     "output_type": "stream",
     "text": [
      "1.2\n"
     ]
    }
   ],
   "source": [
    "# Negative indexing\n",
    "print(tuple1[-1])"
   ]
  },
  {
   "cell_type": "markdown",
   "id": "dd267c8d",
   "metadata": {},
   "source": [
    "### 3. Slicing a Tuple\n",
    "This error occurs when you try to access a variable that doesn't exists."
   ]
  },
  {
   "cell_type": "code",
   "execution_count": 53,
   "id": "5f2359c3",
   "metadata": {},
   "outputs": [
    {
     "data": {
      "text/plain": [
       "('disco', 10)"
      ]
     },
     "execution_count": 53,
     "metadata": {},
     "output_type": "execute_result"
    }
   ],
   "source": [
    "# Slice from index 0 to index 1\n",
    "tuple1[0:2]"
   ]
  },
  {
   "cell_type": "code",
   "execution_count": 54,
   "id": "2a64c830",
   "metadata": {},
   "outputs": [
    {
     "name": "stdout",
     "output_type": "stream",
     "text": [
      "3\n"
     ]
    }
   ],
   "source": [
    "#length of a tuple\n",
    "print(len(tuple1))"
   ]
  },
  {
   "cell_type": "markdown",
   "id": "e4ac1fc2",
   "metadata": {},
   "source": [
    "### 4. Concatenate Tuples"
   ]
  },
  {
   "cell_type": "code",
   "execution_count": 55,
   "id": "485ee907",
   "metadata": {},
   "outputs": [
    {
     "data": {
      "text/plain": [
       "('disco', 10, 1.2, 'hard rock', 10)"
      ]
     },
     "execution_count": 55,
     "metadata": {},
     "output_type": "execute_result"
    }
   ],
   "source": [
    "# Concatenate two tuples\n",
    "\n",
    "tuple2 = tuple1 + (\"hard rock\", 10)\n",
    "tuple2"
   ]
  },
  {
   "cell_type": "code",
   "execution_count": 31,
   "id": "90cfd98c",
   "metadata": {},
   "outputs": [
    {
     "name": "stdout",
     "output_type": "stream",
     "text": [
      "<class 'str'>\n"
     ]
    }
   ],
   "source": [
    "# Python will assign string type to variable b \n",
    "b = \"Typecasting\"\n",
    "print(type(b))"
   ]
  },
  {
   "cell_type": "code",
   "execution_count": 32,
   "id": "699602b3",
   "metadata": {},
   "outputs": [
    {
     "name": "stdout",
     "output_type": "stream",
     "text": [
      "<class 'float'>\n"
     ]
    }
   ],
   "source": [
    "# Python will assign float type to variable c\n",
    "c = 25.9\n",
    "print(type(c))"
   ]
  },
  {
   "cell_type": "markdown",
   "id": "0ed4904a",
   "metadata": {},
   "source": [
    "### 5. Nested Tuple\n",
    "A tuple has the capability to contain another tuple along with other more complex data types. This phenomenon is referred to as 'nesting'. Take into account the following tuple with multiple elements:"
   ]
  },
  {
   "cell_type": "code",
   "execution_count": 56,
   "id": "7af63bc4",
   "metadata": {},
   "outputs": [],
   "source": [
    "# Create a nest tuple\n",
    "\n",
    "NT =(1, 2, (\"pop\", \"rock\") ,(3,4),(\"disco\",(1,2)))"
   ]
  },
  {
   "cell_type": "markdown",
   "id": "8ca9b470",
   "metadata": {},
   "source": [
    "<img src=\"https://abhishekpoudel.com/wp-content/uploads/2024/04/NestedTuplepng.png\" width=\"750\" align=\"center\">"
   ]
  },
  {
   "cell_type": "code",
   "execution_count": 57,
   "id": "0bb6a98c",
   "metadata": {
    "scrolled": true
   },
   "outputs": [
    {
     "name": "stdout",
     "output_type": "stream",
     "text": [
      "Element 0 of Tuple:  1\n",
      "Element 1 of Tuple:  2\n",
      "Element 2 of Tuple:  ('pop', 'rock')\n",
      "Element 3 of Tuple:  (3, 4)\n",
      "Element 4 of Tuple:  ('disco', (1, 2))\n"
     ]
    }
   ],
   "source": [
    "# Print element on each index\n",
    "\n",
    "print(\"Element 0 of Tuple: \", NT[0])\n",
    "print(\"Element 1 of Tuple: \", NT[1])\n",
    "print(\"Element 2 of Tuple: \", NT[2])\n",
    "print(\"Element 3 of Tuple: \", NT[3])\n",
    "print(\"Element 4 of Tuple: \", NT[4])"
   ]
  },
  {
   "cell_type": "markdown",
   "id": "65cfdbb9",
   "metadata": {},
   "source": [
    "<img src=\"https://abhishekpoudel.com/wp-content/uploads/2024/04/Tuple-Nested-Tree.png\" width=\"750\" align=\"center\">"
   ]
  },
  {
   "cell_type": "code",
   "execution_count": 59,
   "id": "a87cf001",
   "metadata": {},
   "outputs": [
    {
     "name": "stdout",
     "output_type": "stream",
     "text": [
      "Element 2, 0 of Tuple:  pop\n",
      "Element 2, 1 of Tuple:  rock\n",
      "Element 3, 0 of Tuple:  3\n",
      "Element 3, 1 of Tuple:  4\n",
      "Element 4, 0 of Tuple:  disco\n",
      "Element 4, 1 of Tuple:  (1, 2)\n"
     ]
    }
   ],
   "source": [
    "# Print element on each index, including nest indexes\n",
    "\n",
    "print(\"Element 2, 0 of Tuple: \",   NT[2][0])\n",
    "print(\"Element 2, 1 of Tuple: \",   NT[2][1])\n",
    "print(\"Element 3, 0 of Tuple: \",   NT[3][0])\n",
    "print(\"Element 3, 1 of Tuple: \",   NT[3][1])\n",
    "print(\"Element 4, 0 of Tuple: \",   NT[4][0])\n",
    "print(\"Element 4, 1 of Tuple: \",   NT[4][1])"
   ]
  },
  {
   "cell_type": "code",
   "execution_count": 60,
   "id": "239d4014",
   "metadata": {},
   "outputs": [
    {
     "data": {
      "text/plain": [
       "'r'"
      ]
     },
     "execution_count": 60,
     "metadata": {},
     "output_type": "execute_result"
    }
   ],
   "source": [
    "# Print the first element in the second nested tuples\n",
    "\n",
    "NT[2][1][0]"
   ]
  },
  {
   "cell_type": "markdown",
   "id": "5e443860",
   "metadata": {},
   "source": [
    "### 6. Immutable property of Tuple"
   ]
  },
  {
   "cell_type": "code",
   "execution_count": 63,
   "id": "09936c13",
   "metadata": {},
   "outputs": [
    {
     "ename": "TypeError",
     "evalue": "'tuple' object does not support item assignment",
     "output_type": "error",
     "traceback": [
      "\u001b[1;31m---------------------------------------------------------------------------\u001b[0m",
      "\u001b[1;31mTypeError\u001b[0m                                 Traceback (most recent call last)",
      "Cell \u001b[1;32mIn[63], line 3\u001b[0m\n\u001b[0;32m      1\u001b[0m \u001b[38;5;66;03m# We are not allowed to change a tuple\u001b[39;00m\n\u001b[0;32m      2\u001b[0m Ratings \u001b[38;5;241m=\u001b[39m (\u001b[38;5;241m10\u001b[39m,\u001b[38;5;241m9\u001b[39m,\u001b[38;5;241m6\u001b[39m,\u001b[38;5;241m5\u001b[39m,\u001b[38;5;241m10\u001b[39m,\u001b[38;5;241m8\u001b[39m,\u001b[38;5;241m9\u001b[39m,\u001b[38;5;241m6\u001b[39m,\u001b[38;5;241m2\u001b[39m)\n\u001b[1;32m----> 3\u001b[0m Ratings[\u001b[38;5;241m0\u001b[39m] \u001b[38;5;241m=\u001b[39m \u001b[38;5;241m5\u001b[39m\n",
      "\u001b[1;31mTypeError\u001b[0m: 'tuple' object does not support item assignment"
     ]
    }
   ],
   "source": [
    "# We are not allowed to change a tuple\n",
    "Ratings = (10,9,6,5,10,8,9,6,2)\n",
    "Ratings[0] = 5"
   ]
  },
  {
   "cell_type": "markdown",
   "id": "6a7526cf",
   "metadata": {},
   "source": [
    "<hr/>\n",
    "<div class=\"alert alert-success alertsuccess\" style=\"margin-top: 20px\">\n",
    "[Note]: Since tuples cannot be changed, any operation done on them must be stored in a new tuple\n",
    "</div>\n",
    "<hr/>"
   ]
  },
  {
   "cell_type": "markdown",
   "id": "b1b71c0f",
   "metadata": {},
   "source": [
    "# C. Lists\n",
    "<p>i. Are ordered sequences i.e. they record element's position\n",
    "<p>ii. Can have multiple data types within them, but the collective is a list at last\n",
    "<p>iii. Created using the square bracket symbol\n",
    "<p>iv. Are mutable objects"
   ]
  },
  {
   "cell_type": "markdown",
   "id": "75619cfe",
   "metadata": {},
   "source": [
    "### 1. Defining a List"
   ]
  },
  {
   "cell_type": "code",
   "execution_count": 68,
   "id": "2c447273",
   "metadata": {},
   "outputs": [
    {
     "name": "stdout",
     "output_type": "stream",
     "text": [
      "['Michael Jackson', 10.1, 1982]\n"
     ]
    }
   ],
   "source": [
    "# Create a list\n",
    "\n",
    "L = [\"Michael Jackson\", 10.1, 1982]\n",
    "print(L)"
   ]
  },
  {
   "cell_type": "code",
   "execution_count": 69,
   "id": "713ec7d4",
   "metadata": {},
   "outputs": [
    {
     "data": {
      "text/plain": [
       "list"
      ]
     },
     "execution_count": 69,
     "metadata": {},
     "output_type": "execute_result"
    }
   ],
   "source": [
    "type(L)"
   ]
  },
  {
   "cell_type": "markdown",
   "id": "cd4a8e37",
   "metadata": {},
   "source": [
    "### 2. Indexing in List"
   ]
  },
  {
   "cell_type": "code",
   "execution_count": 70,
   "id": "13817556",
   "metadata": {},
   "outputs": [
    {
     "name": "stdout",
     "output_type": "stream",
     "text": [
      "10.1\n"
     ]
    }
   ],
   "source": [
    "print(L[1])"
   ]
  },
  {
   "cell_type": "code",
   "execution_count": 71,
   "id": "6ec1761f",
   "metadata": {},
   "outputs": [
    {
     "name": "stdout",
     "output_type": "stream",
     "text": [
      "1982\n"
     ]
    }
   ],
   "source": [
    "# Negative indexing\n",
    "print(L[-1])"
   ]
  },
  {
   "cell_type": "markdown",
   "id": "dadd0638",
   "metadata": {},
   "source": [
    "### 3. Slicing a List"
   ]
  },
  {
   "cell_type": "code",
   "execution_count": 72,
   "id": "c1bae4dd",
   "metadata": {},
   "outputs": [
    {
     "data": {
      "text/plain": [
       "['Michael Jackson', 10.1]"
      ]
     },
     "execution_count": 72,
     "metadata": {},
     "output_type": "execute_result"
    }
   ],
   "source": [
    "# Slice from index 0 to index 1\n",
    "L[0:2]"
   ]
  },
  {
   "cell_type": "code",
   "execution_count": 73,
   "id": "811439e9",
   "metadata": {},
   "outputs": [
    {
     "name": "stdout",
     "output_type": "stream",
     "text": [
      "3\n"
     ]
    }
   ],
   "source": [
    "#length of a list\n",
    "print(len(L))"
   ]
  },
  {
   "cell_type": "markdown",
   "id": "e5794e29",
   "metadata": {},
   "source": [
    "### 4. Concatenate List"
   ]
  },
  {
   "cell_type": "code",
   "execution_count": 75,
   "id": "e681e530",
   "metadata": {},
   "outputs": [
    {
     "name": "stdout",
     "output_type": "stream",
     "text": [
      "['Michael Jackson', 10.1, 1982, 'hard rock', 10, 'hard rock', 10]\n"
     ]
    }
   ],
   "source": [
    "# Concatenate two Lists\n",
    "\n",
    "L += [\"hard rock\", 10]\n",
    "print(L)"
   ]
  },
  {
   "cell_type": "markdown",
   "id": "a013021b",
   "metadata": {},
   "source": [
    "### 5. Nested List\n",
    "Same concept as in the Nested Tuple"
   ]
  },
  {
   "cell_type": "markdown",
   "id": "8f8ff567",
   "metadata": {},
   "source": [
    "### 6. Mutable property of list"
   ]
  },
  {
   "cell_type": "code",
   "execution_count": 76,
   "id": "a668ba3f",
   "metadata": {},
   "outputs": [
    {
     "name": "stdout",
     "output_type": "stream",
     "text": [
      "Before changing, the list is ['Michael Jackson', 10.1, 1982, 'hard rock', 10, 'hard rock', 10]\n",
      "After changing, the list is ['Michael Jackson', 'Sagarmatha', 1982, 'hard rock', 10, 'hard rock', 10]\n"
     ]
    }
   ],
   "source": [
    "# change the 2nd element of list\n",
    "print(f'Before changing, the list is {L}')\n",
    "L[1] = \"Sagarmatha\"\n",
    "print(f'After changing, the list is {L}')"
   ]
  },
  {
   "cell_type": "markdown",
   "id": "5ee63f03",
   "metadata": {},
   "source": [
    "### 7. Append and Extend Functions\n",
    "<p>Append --> Concatenates the object of length x to the last index of the list\n",
    "<p>Extend --> Concatenates an object of length x to x positions"
   ]
  },
  {
   "cell_type": "code",
   "execution_count": 82,
   "id": "b7ec2a5b",
   "metadata": {},
   "outputs": [
    {
     "name": "stdout",
     "output_type": "stream",
     "text": [
      "[5, 6, 7, [8, 9]]\n"
     ]
    }
   ],
   "source": [
    "k = [5,6,7]\n",
    "k.append([8,9])\n",
    "print(k)\n"
   ]
  },
  {
   "cell_type": "code",
   "execution_count": 83,
   "id": "3c6535fd",
   "metadata": {},
   "outputs": [
    {
     "name": "stdout",
     "output_type": "stream",
     "text": [
      "[5, 6, 7, 8, 9]\n"
     ]
    }
   ],
   "source": [
    "k = [5,6,7]\n",
    "k.extend([8,9])\n",
    "print(k)\n"
   ]
  },
  {
   "cell_type": "markdown",
   "id": "f2f29d40",
   "metadata": {},
   "source": [
    "### 8. Split function: Convert a string into list\n",
    "We use the split method to convert a string into a list"
   ]
  },
  {
   "cell_type": "code",
   "execution_count": 84,
   "id": "2ba5e389",
   "metadata": {},
   "outputs": [
    {
     "name": "stdout",
     "output_type": "stream",
     "text": [
      "Nepal is my motherland.\n",
      "['Nepal', 'is', 'my', 'motherland.']\n"
     ]
    }
   ],
   "source": [
    "# split() : Splits, by whitespace, a string into a list where each word is a list item\n",
    "string1 = \"Nepal is my motherland.\"\n",
    "print(string1)\n",
    "list1 = string1.split() \n",
    "print(list1)"
   ]
  },
  {
   "cell_type": "code",
   "execution_count": 85,
   "id": "9531acd0",
   "metadata": {},
   "outputs": [
    {
     "name": "stdout",
     "output_type": "stream",
     "text": [
      "Nepal is my motherland.\n",
      "['Nep', 'l is my motherl', 'nd.']\n"
     ]
    }
   ],
   "source": [
    "# We can supply other desired value to the split function and it will split by the value we supplied\n",
    "string1 = \"Nepal is my motherland.\"\n",
    "print(string1)\n",
    "list1 = string1.split('a') \n",
    "print(list1)"
   ]
  },
  {
   "cell_type": "markdown",
   "id": "6d7de55a",
   "metadata": {},
   "source": [
    "### 9. Copy and Clone in List\n",
    "When we set one variable B equal to A; both A and B are referencing the same list in memory. But when when some changes is made in A, an unexpected side effect is seen in B"
   ]
  },
  {
   "cell_type": "markdown",
   "id": "7cda770b",
   "metadata": {},
   "source": [
    "#### i. Copy"
   ]
  },
  {
   "cell_type": "code",
   "execution_count": 86,
   "id": "ef93ac58",
   "metadata": {},
   "outputs": [
    {
     "name": "stdout",
     "output_type": "stream",
     "text": [
      "A: ['hard rock', 10, 1.2]\n",
      "B: ['hard rock', 10, 1.2]\n"
     ]
    }
   ],
   "source": [
    "# Copy (copy by reference) the list A\n",
    "\n",
    "A = [\"hard rock\", 10, 1.2]\n",
    "B = A\n",
    "print('A:', A)\n",
    "print('B:', B)"
   ]
  },
  {
   "cell_type": "markdown",
   "id": "a3e71086",
   "metadata": {},
   "source": [
    "Initially, the value of the first element in B is set as hard rock. If we change the first element in A to banana, we get an unexpected side effect. As A and B are referencing the same list, if we change list A, then list B also changes. If we check the first element of B we get banana instead of hard rock:"
   ]
  },
  {
   "cell_type": "code",
   "execution_count": 87,
   "id": "ecade7e5",
   "metadata": {},
   "outputs": [
    {
     "name": "stdout",
     "output_type": "stream",
     "text": [
      "B[0]: hard rock\n",
      "B[0]: banana\n"
     ]
    }
   ],
   "source": [
    "# Examine the copy by reference\n",
    "\n",
    "print('B[0]:', B[0])\n",
    "A[0] = \"banana\"\n",
    "print('B[0]:', B[0])"
   ]
  },
  {
   "cell_type": "markdown",
   "id": "875b61f5",
   "metadata": {},
   "source": [
    "To avoid this, we can clone the original list. Clonning can be achieved by:"
   ]
  },
  {
   "cell_type": "markdown",
   "id": "bb7ce0c2",
   "metadata": {},
   "source": [
    "#### ii. Clonning"
   ]
  },
  {
   "cell_type": "code",
   "execution_count": 88,
   "id": "291546bb",
   "metadata": {},
   "outputs": [
    {
     "data": {
      "text/plain": [
       "['banana', 10, 1.2]"
      ]
     },
     "execution_count": 88,
     "metadata": {},
     "output_type": "execute_result"
    }
   ],
   "source": [
    "# clonning\n",
    "B = A[:]\n",
    "B"
   ]
  },
  {
   "cell_type": "markdown",
   "id": "27fbcb55",
   "metadata": {},
   "source": [
    "Now if you change A, B wont change"
   ]
  },
  {
   "cell_type": "code",
   "execution_count": 89,
   "id": "f54b0f22",
   "metadata": {},
   "outputs": [
    {
     "name": "stdout",
     "output_type": "stream",
     "text": [
      "B[0]: banana\n",
      "B[0]: banana\n"
     ]
    }
   ],
   "source": [
    "print('B[0]:', B[0])\n",
    "A[0] = \"hard rock\"\n",
    "print('B[0]:', B[0])"
   ]
  },
  {
   "cell_type": "markdown",
   "id": "769c8b1e",
   "metadata": {},
   "source": [
    "# D. Sets\n",
    "<p> i. Unlike Lists and Tuples, Sets are unordered i.e. do not record the element's position\n",
    "<p> ii. Can contain different data types like Lists and Tuples\n",
    "<p> iii. Can only have unique elements i.e. no repetition of same element"
   ]
  },
  {
   "cell_type": "markdown",
   "id": "601ddc5f",
   "metadata": {},
   "source": [
    "### 1. Defining a set\n",
    "Sets are defined using curly braces"
   ]
  },
  {
   "cell_type": "code",
   "execution_count": 97,
   "id": "c1ccc4a0",
   "metadata": {},
   "outputs": [
    {
     "name": "stdout",
     "output_type": "stream",
     "text": [
      "{'Lhotse', 1, 8848.86, 'Choyu', 'Sagarmatha', 'Annapurna', 'Langtang'}\n"
     ]
    }
   ],
   "source": [
    "set1 = {1,\"Sagarmatha\",\"Annapurna\", 8848.86, \"Langtang\", \"Lhotse\", \"Annapurna\",\"Choyu\"}\n",
    "print(set1)"
   ]
  },
  {
   "cell_type": "markdown",
   "id": "4396282c",
   "metadata": {},
   "source": [
    "<hr/>\n",
    "<div class=\"alert alert-success alertsuccess\" style=\"margin-top: 20px\">\n",
    "[Note]: In the above defined set, notice how repeated items are replaced by a single entry\n",
    "</div>\n",
    "<hr/>"
   ]
  },
  {
   "cell_type": "markdown",
   "id": "f84adbf9",
   "metadata": {},
   "source": [
    "### 2. The unordered property of sets i.e. no Indexing"
   ]
  },
  {
   "cell_type": "code",
   "execution_count": 98,
   "id": "f0a65d90",
   "metadata": {},
   "outputs": [
    {
     "ename": "TypeError",
     "evalue": "'set' object is not subscriptable",
     "output_type": "error",
     "traceback": [
      "\u001b[1;31m---------------------------------------------------------------------------\u001b[0m",
      "\u001b[1;31mTypeError\u001b[0m                                 Traceback (most recent call last)",
      "Cell \u001b[1;32mIn[98], line 1\u001b[0m\n\u001b[1;32m----> 1\u001b[0m set1[\u001b[38;5;241m0\u001b[39m]\n",
      "\u001b[1;31mTypeError\u001b[0m: 'set' object is not subscriptable"
     ]
    }
   ],
   "source": [
    "set1[0]"
   ]
  },
  {
   "cell_type": "markdown",
   "id": "e5eef567",
   "metadata": {},
   "source": [
    "### 3. Add and Remove Item of a set"
   ]
  },
  {
   "cell_type": "code",
   "execution_count": 99,
   "id": "fd57cf81",
   "metadata": {},
   "outputs": [
    {
     "name": "stdout",
     "output_type": "stream",
     "text": [
      "{'Lhotse', 1, 8848.86, 'Choyu', 'Sagarmatha', 'Annapurna', 'Langtang'}\n",
      "{'Lhotse', 1, 8848.86, 'Choyu', 'Sagarmatha', 'Manasalu', 'Annapurna', 'Langtang'}\n",
      "{'Lhotse', 8848.86, 'Choyu', 'Sagarmatha', 'Manasalu', 'Annapurna', 'Langtang'}\n"
     ]
    }
   ],
   "source": [
    "print(set1)\n",
    "set1.add(\"Manasalu\")\n",
    "print(set1)\n",
    "set1.remove(1)\n",
    "print(set1)"
   ]
  },
  {
   "cell_type": "markdown",
   "id": "5ca35192",
   "metadata": {},
   "source": [
    "### 4. Convert a list to set"
   ]
  },
  {
   "cell_type": "code",
   "execution_count": 100,
   "id": "3ad2281f",
   "metadata": {},
   "outputs": [
    {
     "data": {
      "text/plain": [
       "{'00:42:19',\n",
       " 10.0,\n",
       " 1982,\n",
       " '30-Nov-82',\n",
       " 46.0,\n",
       " 65,\n",
       " 'Michael Jackson',\n",
       " None,\n",
       " 'Pop, Rock, R&B',\n",
       " 'Thriller'}"
      ]
     },
     "execution_count": 100,
     "metadata": {},
     "output_type": "execute_result"
    }
   ],
   "source": [
    "album_list = [ \"Michael Jackson\", \"Thriller\", 1982, \"00:42:19\", \\\n",
    "              \"Pop, Rock, R&B\", 46.0, 65, \"30-Nov-82\", None, 10.0]\n",
    "album_set = set(album_list)             \n",
    "album_set"
   ]
  },
  {
   "cell_type": "markdown",
   "id": "a6fbbcb4",
   "metadata": {},
   "source": [
    "### 5. Check if an element is in set or not"
   ]
  },
  {
   "cell_type": "code",
   "execution_count": 101,
   "id": "851edf01",
   "metadata": {},
   "outputs": [
    {
     "data": {
      "text/plain": [
       "True"
      ]
     },
     "execution_count": 101,
     "metadata": {},
     "output_type": "execute_result"
    }
   ],
   "source": [
    "\"Choyu\" in set1"
   ]
  },
  {
   "cell_type": "code",
   "execution_count": 102,
   "id": "3077ca9e",
   "metadata": {},
   "outputs": [
    {
     "data": {
      "text/plain": [
       "False"
      ]
     },
     "execution_count": 102,
     "metadata": {},
     "output_type": "execute_result"
    }
   ],
   "source": [
    "\"Makalu\" in set1"
   ]
  },
  {
   "cell_type": "markdown",
   "id": "bc433c2c",
   "metadata": {},
   "source": [
    "# E. Dictionary\n",
    "<p>i. A collection of key-value pair of elements, seperated by commas.\n",
    "<p>ii. Key's are like index in Lists, beside that key's do not necessarily have to be integers\n",
    "<p>iii. index are unseen in the list, but key's always present upfront in the dictionary in representation.\n",
    "<p>iv. Key's are immutable and unique\n",
    "<p>v. Elements of dictionary are accessed using keys"
   ]
  },
  {
   "cell_type": "markdown",
   "id": "7ec01874",
   "metadata": {},
   "source": [
    "### 1. Defining a dictionary"
   ]
  },
  {
   "cell_type": "code",
   "execution_count": 105,
   "id": "7e1508df",
   "metadata": {},
   "outputs": [
    {
     "name": "stdout",
     "output_type": "stream",
     "text": [
      "{'Sagarmatha': 8848.86, 'Lhotse': 8516, 'Kanchenjunga': 8586}\n"
     ]
    }
   ],
   "source": [
    "dict1 = {'Sagarmatha':8848.86, 'Lhotse':8516,'Kanchenjunga':8586}\n",
    "print(dict1)"
   ]
  },
  {
   "cell_type": "markdown",
   "id": "74b3feb0",
   "metadata": {},
   "source": [
    "### 2. Keys"
   ]
  },
  {
   "cell_type": "code",
   "execution_count": 106,
   "id": "79209272",
   "metadata": {},
   "outputs": [
    {
     "name": "stdout",
     "output_type": "stream",
     "text": [
      "dict_keys(['Sagarmatha', 'Lhotse', 'Kanchenjunga'])\n"
     ]
    }
   ],
   "source": [
    "print(dict1.keys())"
   ]
  },
  {
   "cell_type": "markdown",
   "id": "c34866d9",
   "metadata": {},
   "source": [
    "### 3. Values"
   ]
  },
  {
   "cell_type": "code",
   "execution_count": 107,
   "id": "4a6332e4",
   "metadata": {},
   "outputs": [
    {
     "name": "stdout",
     "output_type": "stream",
     "text": [
      "dict_values([8848.86, 8516, 8586])\n"
     ]
    }
   ],
   "source": [
    "print(dict1.values())"
   ]
  },
  {
   "cell_type": "markdown",
   "id": "2396eae1",
   "metadata": {},
   "source": [
    "### 4. Access the element"
   ]
  },
  {
   "cell_type": "code",
   "execution_count": 110,
   "id": "b9ba7797",
   "metadata": {},
   "outputs": [
    {
     "name": "stdout",
     "output_type": "stream",
     "text": [
      "8516\n"
     ]
    }
   ],
   "source": [
    "print(dict1['Lhotse'])"
   ]
  },
  {
   "cell_type": "markdown",
   "id": "aeeb66b1",
   "metadata": {},
   "source": [
    "### 5. Add/Remove/Update a key-value pair"
   ]
  },
  {
   "cell_type": "code",
   "execution_count": 111,
   "id": "2500dec6",
   "metadata": {},
   "outputs": [
    {
     "name": "stdout",
     "output_type": "stream",
     "text": [
      "{'Sagarmatha': 8848.86, 'Lhotse': 8516, 'Kanchenjunga': 8586}\n",
      "{'Sagarmatha': 8848.86, 'Lhotse': 8516, 'Kanchenjunga': 8586, 'Dhaulagiri': 8167}\n"
     ]
    }
   ],
   "source": [
    "#add a new key-value pair to the existing dictionary\n",
    "print(dict1)\n",
    "dict1['Dhaulagiri'] = 8167\n",
    "print(dict1)"
   ]
  },
  {
   "cell_type": "code",
   "execution_count": 112,
   "id": "24c57a74",
   "metadata": {},
   "outputs": [
    {
     "name": "stdout",
     "output_type": "stream",
     "text": [
      "{'Sagarmatha': 8848.86, 'Lhotse': 8516, 'Kanchenjunga': 8586, 'Dhaulagiri': 8167}\n",
      "{'Sagarmatha': 8848.86, 'Kanchenjunga': 8586, 'Dhaulagiri': 8167}\n"
     ]
    }
   ],
   "source": [
    "#remove a new key-value pair from the existing dictionary\n",
    "print(dict1)\n",
    "del(dict1['Lhotse'])\n",
    "print(dict1)"
   ]
  },
  {
   "cell_type": "code",
   "execution_count": 116,
   "id": "f1bb0cef",
   "metadata": {},
   "outputs": [
    {
     "name": "stdout",
     "output_type": "stream",
     "text": [
      "{'Sagarmatha': 8848.86, 'Kanchenjunga': 8586, 'Dhaulagiri': 8167}\n",
      "{'Sagarmatha': 8848.86, 'Kanchenjunga': 29169, 'Dhaulagiri': 8167}\n"
     ]
    }
   ],
   "source": [
    "# Update a value for the key\n",
    "print(dict1)\n",
    "dict1['Kanchenjunga'] = 29169\n",
    "print(dict1)"
   ]
  },
  {
   "cell_type": "markdown",
   "id": "48a73232",
   "metadata": {},
   "source": [
    "### 6. Check if an element exists or not"
   ]
  },
  {
   "cell_type": "code",
   "execution_count": 117,
   "id": "cb6c7bb4",
   "metadata": {},
   "outputs": [
    {
     "data": {
      "text/plain": [
       "True"
      ]
     },
     "execution_count": 117,
     "metadata": {},
     "output_type": "execute_result"
    }
   ],
   "source": [
    "'Kanchenjunga' in dict1"
   ]
  },
  {
   "cell_type": "code",
   "execution_count": 118,
   "id": "d4707b79",
   "metadata": {},
   "outputs": [
    {
     "data": {
      "text/plain": [
       "False"
      ]
     },
     "execution_count": 118,
     "metadata": {},
     "output_type": "execute_result"
    }
   ],
   "source": [
    "'Lhotse' in dict1"
   ]
  },
  {
   "cell_type": "code",
   "execution_count": null,
   "id": "330acade",
   "metadata": {},
   "outputs": [],
   "source": []
  }
 ],
 "metadata": {
  "kernelspec": {
   "display_name": "Python 3 (ipykernel)",
   "language": "python",
   "name": "python3"
  },
  "language_info": {
   "codemirror_mode": {
    "name": "ipython",
    "version": 3
   },
   "file_extension": ".py",
   "mimetype": "text/x-python",
   "name": "python",
   "nbconvert_exporter": "python",
   "pygments_lexer": "ipython3",
   "version": "3.11.5"
  }
 },
 "nbformat": 4,
 "nbformat_minor": 5
}
